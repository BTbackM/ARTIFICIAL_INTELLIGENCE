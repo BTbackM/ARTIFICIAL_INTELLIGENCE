{
 "cells": [
  {
   "cell_type": "code",
   "execution_count": 6,
   "metadata": {},
   "outputs": [],
   "source": [
    "# NOTE: Importing the libraries\n",
    "\n",
    "from os import path, __file__\n",
    "from sklearn.model_selection import train_test_split\n",
    "\n",
    "import matplotlib.pyplot as plt\n",
    "import numpy as np\n",
    "import pandas as pd\n",
    "import torch.nn as nn"
   ]
  },
  {
   "cell_type": "code",
   "execution_count": 3,
   "metadata": {},
   "outputs": [],
   "source": [
    "# NOTE: Global variables for the notebook\n",
    "\n",
    "HOME = path.join('~')\n",
    "ABS_PATH = path.join(HOME, 'ARTIFICIAL_INTELLIGENCE/WEEK_10/PYTORCH_MLP/src/')\n",
    "DATA_PATH = path.join(ABS_PATH, '../data')\n",
    "IMG_PATH = path.join(ABS_PATH, '../img')\n"
   ]
  },
  {
   "cell_type": "code",
   "execution_count": 4,
   "metadata": {},
   "outputs": [],
   "source": [
    "# NOTE: Utility functions\n",
    "\n",
    "def parse_csv(file):\n",
    "    try:\n",
    "        df = pd.read_csv(path.join(DATA_PATH, file), header=None)\n",
    "        \n",
    "        col, tmp_df = None, None\n",
    "        for column in df:\n",
    "            if df[column].dtypes == object:\n",
    "                col = df[column]\n",
    "                df[column] = df[column].astype('category').cat.codes\n",
    "                tmp_df = pd.DataFrame({'Column': col, 'Code': df[column]})\n",
    "                tmp_df = tmp_df.groupby(['Column', 'Code']).count()\n",
    "                tmp_df = pd.DataFrame(list(tmp_df.index.values), columns=['Column', 'Code'])\n",
    "                print(tmp_df)\n",
    "        df.to_csv(path.join(DATA_PATH, 'parsed.csv'), header=None,index=False)\n",
    "    except:\n",
    "        print('Could not read the file')"
   ]
  },
  {
   "cell_type": "code",
   "execution_count": 7,
   "metadata": {},
   "outputs": [
    {
     "name": "stdout",
     "output_type": "stream",
     "text": [
      "            Column  Code\n",
      "0      Iris-setosa     0\n",
      "1  Iris-versicolor     1\n",
      "2   Iris-virginica     2\n",
      "     Sepal L  Sepal W  Petal L  Petal W  Species\n",
      "0        5.1      3.5      1.4      0.2        0\n",
      "1        4.9      3.0      1.4      0.2        0\n",
      "2        4.7      3.2      1.3      0.2        0\n",
      "3        4.6      3.1      1.5      0.2        0\n",
      "4        5.0      3.6      1.4      0.2        0\n",
      "..       ...      ...      ...      ...      ...\n",
      "145      6.7      3.0      5.2      2.3        2\n",
      "146      6.3      2.5      5.0      1.9        2\n",
      "147      6.5      3.0      5.2      2.0        2\n",
      "148      6.2      3.4      5.4      2.3        2\n",
      "149      5.9      3.0      5.1      1.8        2\n",
      "\n",
      "[150 rows x 5 columns]\n"
     ]
    }
   ],
   "source": [
    "# NOTE: Importing the dataset\n",
    "\n",
    "parse_csv('iris.data')\n",
    "dataset = pd.read_csv(path.join(DATA_PATH, 'parsed.csv'), header=None)\n",
    "dataset.columns = ['Sepal L', \n",
    "                   'Sepal W', \n",
    "                   'Petal L', \n",
    "                   'Petal W', \n",
    "                   'Species']\n",
    "print(dataset)\n"
   ]
  },
  {
   "cell_type": "code",
   "execution_count": null,
   "metadata": {},
   "outputs": [],
   "source": []
  }
 ],
 "metadata": {
  "kernelspec": {
   "display_name": "BT",
   "language": "python",
   "name": "bt"
  },
  "language_info": {
   "codemirror_mode": {
    "name": "ipython",
    "version": 3
   },
   "file_extension": ".py",
   "mimetype": "text/x-python",
   "name": "python",
   "nbconvert_exporter": "python",
   "pygments_lexer": "ipython3",
   "version": "3.10.8"
  },
  "orig_nbformat": 4
 },
 "nbformat": 4,
 "nbformat_minor": 2
}
