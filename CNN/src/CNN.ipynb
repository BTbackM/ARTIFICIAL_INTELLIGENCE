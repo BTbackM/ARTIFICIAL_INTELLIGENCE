{
 "cells": [
  {
   "attachments": {},
   "cell_type": "markdown",
   "metadata": {},
   "source": [
    "##### Import libraries"
   ]
  },
  {
   "cell_type": "code",
   "execution_count": 1,
   "metadata": {},
   "outputs": [
    {
     "name": "stderr",
     "output_type": "stream",
     "text": [
      "/home/felix.blanco/.conda/envs/BT/lib/python3.10/site-packages/scipy/__init__.py:146: UserWarning: A NumPy version >=1.16.5 and <1.23.0 is required for this version of SciPy (detected version 1.23.3\n",
      "  warnings.warn(f\"A NumPy version >={np_minversion} and <{np_maxversion}\"\n"
     ]
    }
   ],
   "source": [
    "import numpy as np\n",
    "import pandas as pd\n",
    "import torch\n",
    "import torch.nn as nn\n",
    "import torch.optim as optim\n",
    "\n",
    "from sklearn.model_selection import train_test_split\n",
    "from sklearn.preprocessing import LabelEncoder\n",
    "from torch.utils.data import DataLoader"
   ]
  },
  {
   "attachments": {},
   "cell_type": "markdown",
   "metadata": {},
   "source": [
    "##### Import own libraries"
   ]
  },
  {
   "cell_type": "code",
   "execution_count": 2,
   "metadata": {},
   "outputs": [],
   "source": [
    "from dataloader.iris import IrisDataset\n",
    "from model.iris_cnn import IrisCNN"
   ]
  },
  {
   "attachments": {},
   "cell_type": "markdown",
   "metadata": {},
   "source": [
    "##### Load dataset"
   ]
  },
  {
   "cell_type": "code",
   "execution_count": 3,
   "metadata": {},
   "outputs": [
    {
     "name": "stdout",
     "output_type": "stream",
     "text": [
      "Features shape: (150, 4) Labels shape: (150,)\n"
     ]
    }
   ],
   "source": [
    "iris_df = pd.read_csv('../data/iris.data', header = None)\n",
    "\n",
    "# Divide the dataset into 'features' and 'labels' arrays\n",
    "features = np.array(iris_df.iloc[:, :-1])\n",
    "labels = np.array(iris_df.iloc[:, -1])\n",
    "\n",
    "# Encoder iris labels\n",
    "label_names = np.unique(labels)\n",
    "label_encoder = LabelEncoder()\n",
    "encoded_labels = label_encoder.fit_transform(label_names)\n",
    "label_dict = {}\n",
    "for label, encoded_label in zip(label_names, encoded_labels):\n",
    "   label_dict[label] = encoded_label\n",
    "\n",
    "# Map Encoded labels to DF\n",
    "labels = label_encoder.transform(labels)\n",
    "print('Features shape:', features.shape, 'Labels shape:', labels.shape)"
   ]
  },
  {
   "cell_type": "code",
   "execution_count": 4,
   "metadata": {},
   "outputs": [],
   "source": [
    "# Split the dataset into train and test sets\n",
    "train_features, test_features, train_labels, test_labels = train_test_split(\n",
    "    features, labels, test_size = 0.2, random_state = 42\n",
    ")"
   ]
  },
  {
   "attachments": {},
   "cell_type": "markdown",
   "metadata": {},
   "source": [
    "##### Dataloader"
   ]
  },
  {
   "cell_type": "code",
   "execution_count": 5,
   "metadata": {},
   "outputs": [],
   "source": [
    "batch_size = 16\n",
    "train_dataset = IrisDataset(train_features, train_labels)\n",
    "test_dataset = IrisDataset(test_features, test_labels)\n",
    "# Create a DataLoader\n",
    "train_dataloader = DataLoader(\n",
    "    train_dataset, batch_size = batch_size, shuffle = True, num_workers = 4\n",
    ")\n",
    "test_dataloader = DataLoader(\n",
    "    test_dataset, batch_size = batch_size, shuffle = True, num_workers = 4\n",
    ")"
   ]
  },
  {
   "cell_type": "code",
   "execution_count": 6,
   "metadata": {},
   "outputs": [],
   "source": [
    "model = IrisCNN()\n",
    "loss_fn = nn.CrossEntropyLoss()\n",
    "optimizer = optim.Adam(model.parameters(), lr = 0.001)"
   ]
  },
  {
   "attachments": {},
   "cell_type": "markdown",
   "metadata": {},
   "source": [
    "##### Trainning"
   ]
  },
  {
   "cell_type": "code",
   "execution_count": 7,
   "metadata": {},
   "outputs": [
    {
     "name": "stdout",
     "output_type": "stream",
     "text": [
      "Epoch [1/100], Loss: 0.9585\n",
      "Epoch [2/100], Loss: 0.9319\n",
      "Epoch [3/100], Loss: 0.8278\n",
      "Epoch [4/100], Loss: 0.6928\n",
      "Epoch [5/100], Loss: 0.4885\n",
      "Epoch [6/100], Loss: 0.5858\n",
      "Epoch [7/100], Loss: 0.4286\n",
      "Epoch [8/100], Loss: 0.4251\n",
      "Epoch [9/100], Loss: 0.1934\n",
      "Epoch [10/100], Loss: 0.2730\n",
      "Epoch [11/100], Loss: 0.4672\n",
      "Epoch [12/100], Loss: 0.1625\n",
      "Epoch [13/100], Loss: 0.2554\n",
      "Epoch [14/100], Loss: 0.0907\n",
      "Epoch [15/100], Loss: 0.0456\n",
      "Epoch [16/100], Loss: 0.1212\n",
      "Epoch [17/100], Loss: 0.0430\n",
      "Epoch [18/100], Loss: 0.0600\n",
      "Epoch [19/100], Loss: 0.0557\n",
      "Epoch [20/100], Loss: 0.1507\n",
      "Epoch [21/100], Loss: 0.0601\n",
      "Epoch [22/100], Loss: 0.0356\n",
      "Epoch [23/100], Loss: 0.0823\n",
      "Epoch [24/100], Loss: 0.0297\n",
      "Epoch [25/100], Loss: 0.0248\n",
      "Epoch [26/100], Loss: 0.0447\n",
      "Epoch [27/100], Loss: 0.0079\n",
      "Epoch [28/100], Loss: 0.1355\n",
      "Epoch [29/100], Loss: 0.1144\n",
      "Epoch [30/100], Loss: 0.0991\n",
      "Epoch [31/100], Loss: 0.0517\n",
      "Epoch [32/100], Loss: 0.0301\n",
      "Epoch [33/100], Loss: 0.0374\n",
      "Epoch [34/100], Loss: 0.0120\n",
      "Epoch [35/100], Loss: 0.0607\n",
      "Epoch [36/100], Loss: 0.0059\n",
      "Epoch [37/100], Loss: 0.0356\n",
      "Epoch [38/100], Loss: 0.0100\n",
      "Epoch [39/100], Loss: 0.0181\n",
      "Epoch [40/100], Loss: 0.4098\n",
      "Epoch [41/100], Loss: 0.0060\n",
      "Epoch [42/100], Loss: 0.0233\n",
      "Epoch [43/100], Loss: 0.1419\n",
      "Epoch [44/100], Loss: 0.0079\n",
      "Epoch [45/100], Loss: 0.0372\n",
      "Epoch [46/100], Loss: 0.0136\n",
      "Epoch [47/100], Loss: 0.0056\n",
      "Epoch [48/100], Loss: 0.0565\n",
      "Epoch [49/100], Loss: 0.0058\n",
      "Epoch [50/100], Loss: 0.5353\n",
      "Epoch [51/100], Loss: 0.0286\n",
      "Epoch [52/100], Loss: 0.0261\n",
      "Epoch [53/100], Loss: 0.0709\n",
      "Epoch [54/100], Loss: 0.1098\n",
      "Epoch [55/100], Loss: 0.0385\n",
      "Epoch [56/100], Loss: 0.1351\n",
      "Epoch [57/100], Loss: 0.0131\n",
      "Epoch [58/100], Loss: 0.1516\n",
      "Epoch [59/100], Loss: 0.0530\n",
      "Epoch [60/100], Loss: 0.0054\n",
      "Epoch [61/100], Loss: 0.5488\n",
      "Epoch [62/100], Loss: 0.0059\n",
      "Epoch [63/100], Loss: 0.0095\n",
      "Epoch [64/100], Loss: 0.0769\n",
      "Epoch [65/100], Loss: 0.3875\n",
      "Epoch [66/100], Loss: 0.0674\n",
      "Epoch [67/100], Loss: 0.0224\n",
      "Epoch [68/100], Loss: 0.0740\n",
      "Epoch [69/100], Loss: 0.0309\n",
      "Epoch [70/100], Loss: 0.0365\n",
      "Epoch [71/100], Loss: 0.1654\n",
      "Epoch [72/100], Loss: 0.0288\n",
      "Epoch [73/100], Loss: 0.0054\n",
      "Epoch [74/100], Loss: 0.0643\n",
      "Epoch [75/100], Loss: 0.0084\n",
      "Epoch [76/100], Loss: 0.0302\n",
      "Epoch [77/100], Loss: 0.0115\n",
      "Epoch [78/100], Loss: 0.0370\n",
      "Epoch [79/100], Loss: 0.0324\n",
      "Epoch [80/100], Loss: 0.0034\n",
      "Epoch [81/100], Loss: 0.0013\n",
      "Epoch [82/100], Loss: 0.0059\n",
      "Epoch [83/100], Loss: 0.0550\n",
      "Epoch [84/100], Loss: 0.0542\n",
      "Epoch [85/100], Loss: 0.0027\n",
      "Epoch [86/100], Loss: 0.2042\n",
      "Epoch [87/100], Loss: 0.0327\n",
      "Epoch [88/100], Loss: 0.0032\n",
      "Epoch [89/100], Loss: 0.0047\n",
      "Epoch [90/100], Loss: 0.0662\n",
      "Epoch [91/100], Loss: 0.4249\n",
      "Epoch [92/100], Loss: 0.1322\n",
      "Epoch [93/100], Loss: 0.0035\n",
      "Epoch [94/100], Loss: 0.3825\n",
      "Epoch [95/100], Loss: 0.0009\n",
      "Epoch [96/100], Loss: 0.0166\n",
      "Epoch [97/100], Loss: 0.1203\n",
      "Epoch [98/100], Loss: 0.0635\n",
      "Epoch [99/100], Loss: 0.0560\n",
      "Epoch [100/100], Loss: 0.0029\n"
     ]
    }
   ],
   "source": [
    "num_epochs = 100\n",
    "for epoch in range(num_epochs):\n",
    "    for features, labels in train_dataloader:\n",
    "        optimizer.zero_grad()\n",
    "        # Forward pass\n",
    "        outputs = model(features)\n",
    "        loss = loss_fn(outputs, labels)\n",
    "        # Backward and optimize\n",
    "        loss.backward()\n",
    "        optimizer.step()\n",
    "    \n",
    "    # Print the training loss after each epoch\n",
    "    print(f\"Epoch [{epoch+1}/{num_epochs}], Loss: {loss.item():.4f}\")"
   ]
  },
  {
   "attachments": {},
   "cell_type": "markdown",
   "metadata": {},
   "source": [
    "##### Testing"
   ]
  },
  {
   "cell_type": "code",
   "execution_count": 8,
   "metadata": {},
   "outputs": [
    {
     "name": "stdout",
     "output_type": "stream",
     "text": [
      "Test Accuracy: 96.66666666666667%\n"
     ]
    }
   ],
   "source": [
    "with torch.no_grad():\n",
    "    correct = 0\n",
    "    total = 0\n",
    "    for features, labels in test_dataloader:\n",
    "        outputs = model(features)\n",
    "        _, predicted = torch.max(outputs.data, 1)\n",
    "        total += labels.size(0)\n",
    "        correct += (predicted == labels).sum().item()\n",
    "    \n",
    "    print(f\"Test Accuracy: {100 * correct / total}%\")"
   ]
  }
 ],
 "metadata": {
  "kernelspec": {
   "display_name": "BT",
   "language": "python",
   "name": "python3"
  },
  "language_info": {
   "codemirror_mode": {
    "name": "ipython",
    "version": 3
   },
   "file_extension": ".py",
   "mimetype": "text/x-python",
   "name": "python",
   "nbconvert_exporter": "python",
   "pygments_lexer": "ipython3",
   "version": "3.10.8"
  },
  "orig_nbformat": 4
 },
 "nbformat": 4,
 "nbformat_minor": 2
}
